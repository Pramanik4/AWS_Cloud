{
 "cells": [
  {
   "cell_type": "markdown",
   "id": "603d663b",
   "metadata": {},
   "source": [
    "# News Classification with Machine Learning"
   ]
  },
  {
   "cell_type": "markdown",
   "id": "fbe417d1",
   "metadata": {},
   "source": [
    "##### import required libraries"
   ]
  },
  {
   "cell_type": "code",
   "execution_count": 11,
   "id": "faeab6cb",
   "metadata": {},
   "outputs": [],
   "source": [
    "import pandas as pd\n",
    "import seaborn as sb\n",
    "import numpy as np\n",
    "import matplotlib.pyplot as mp\n",
    "from sklearn.feature_extraction.text import CountVectorizer\n",
    "from sklearn.model_selection import train_test_split\n",
    "from sklearn.naive_bayes import MultinomialNB"
   ]
  },
  {
   "cell_type": "markdown",
   "id": "68e529d8",
   "metadata": {},
   "source": [
    "##### load the dataset using pandas"
   ]
  },
  {
   "cell_type": "code",
   "execution_count": 3,
   "id": "829bd26d",
   "metadata": {},
   "outputs": [],
   "source": [
    "dataset = pd.read_csv('news_classification.csv')"
   ]
  },
  {
   "cell_type": "markdown",
   "id": "4e24de5d",
   "metadata": {},
   "source": [
    "##### just a glimpse of the data"
   ]
  },
  {
   "cell_type": "code",
   "execution_count": 4,
   "id": "4951451c",
   "metadata": {},
   "outputs": [
    {
     "data": {
      "text/html": [
       "<div>\n",
       "<style scoped>\n",
       "    .dataframe tbody tr th:only-of-type {\n",
       "        vertical-align: middle;\n",
       "    }\n",
       "\n",
       "    .dataframe tbody tr th {\n",
       "        vertical-align: top;\n",
       "    }\n",
       "\n",
       "    .dataframe thead th {\n",
       "        text-align: right;\n",
       "    }\n",
       "</style>\n",
       "<table border=\"1\" class=\"dataframe\">\n",
       "  <thead>\n",
       "    <tr style=\"text-align: right;\">\n",
       "      <th></th>\n",
       "      <th>Unnamed: 0</th>\n",
       "      <th>news_headline</th>\n",
       "      <th>news_article</th>\n",
       "      <th>news_category</th>\n",
       "    </tr>\n",
       "  </thead>\n",
       "  <tbody>\n",
       "    <tr>\n",
       "      <th>0</th>\n",
       "      <td>0</td>\n",
       "      <td>50-year-old problem of biology solved by Artif...</td>\n",
       "      <td>DeepMind's AI system 'AlphaFold' has been reco...</td>\n",
       "      <td>technology</td>\n",
       "    </tr>\n",
       "    <tr>\n",
       "      <th>1</th>\n",
       "      <td>1</td>\n",
       "      <td>Microsoft Teams to stop working on Internet Ex...</td>\n",
       "      <td>Microsoft Teams will stop working on Internet ...</td>\n",
       "      <td>technology</td>\n",
       "    </tr>\n",
       "    <tr>\n",
       "      <th>2</th>\n",
       "      <td>2</td>\n",
       "      <td>Hope US won't erect barriers to cooperation: C...</td>\n",
       "      <td>China, in response to reports of US adding Chi...</td>\n",
       "      <td>technology</td>\n",
       "    </tr>\n",
       "    <tr>\n",
       "      <th>3</th>\n",
       "      <td>3</td>\n",
       "      <td>Global smartphone sales in Q3 falls 5.7% to 36...</td>\n",
       "      <td>The global smartphone sales in the third quart...</td>\n",
       "      <td>technology</td>\n",
       "    </tr>\n",
       "    <tr>\n",
       "      <th>4</th>\n",
       "      <td>4</td>\n",
       "      <td>EU hoping Biden will clarify US position on di...</td>\n",
       "      <td>The European Union (EU) is hoping that US Pres...</td>\n",
       "      <td>technology</td>\n",
       "    </tr>\n",
       "  </tbody>\n",
       "</table>\n",
       "</div>"
      ],
      "text/plain": [
       "   Unnamed: 0                                      news_headline  \\\n",
       "0           0  50-year-old problem of biology solved by Artif...   \n",
       "1           1  Microsoft Teams to stop working on Internet Ex...   \n",
       "2           2  Hope US won't erect barriers to cooperation: C...   \n",
       "3           3  Global smartphone sales in Q3 falls 5.7% to 36...   \n",
       "4           4  EU hoping Biden will clarify US position on di...   \n",
       "\n",
       "                                        news_article news_category  \n",
       "0  DeepMind's AI system 'AlphaFold' has been reco...    technology  \n",
       "1  Microsoft Teams will stop working on Internet ...    technology  \n",
       "2  China, in response to reports of US adding Chi...    technology  \n",
       "3  The global smartphone sales in the third quart...    technology  \n",
       "4  The European Union (EU) is hoping that US Pres...    technology  "
      ]
     },
     "execution_count": 4,
     "metadata": {},
     "output_type": "execute_result"
    }
   ],
   "source": [
    "dataset.head()"
   ]
  },
  {
   "cell_type": "markdown",
   "id": "f49e959c",
   "metadata": {},
   "source": [
    "##### check for total numbers of rows and columns"
   ]
  },
  {
   "cell_type": "code",
   "execution_count": 5,
   "id": "099fa9df",
   "metadata": {},
   "outputs": [
    {
     "data": {
      "text/plain": [
       "(4817, 4)"
      ]
     },
     "execution_count": 5,
     "metadata": {},
     "output_type": "execute_result"
    }
   ],
   "source": [
    "dataset.shape"
   ]
  },
  {
   "cell_type": "markdown",
   "id": "3aef39a7",
   "metadata": {},
   "source": [
    "##### just check for if null value exist"
   ]
  },
  {
   "cell_type": "code",
   "execution_count": 6,
   "id": "c1e2750a",
   "metadata": {},
   "outputs": [
    {
     "data": {
      "text/plain": [
       "Unnamed: 0       0\n",
       "news_headline    0\n",
       "news_article     0\n",
       "news_category    0\n",
       "dtype: int64"
      ]
     },
     "execution_count": 6,
     "metadata": {},
     "output_type": "execute_result"
    }
   ],
   "source": [
    "dataset.isnull().sum()"
   ]
  },
  {
   "cell_type": "markdown",
   "id": "78d19cfa",
   "metadata": {},
   "source": [
    "there is no null value in this dataset"
   ]
  },
  {
   "cell_type": "markdown",
   "id": "831a7fab",
   "metadata": {},
   "source": [
    "##### To check for value counts"
   ]
  },
  {
   "cell_type": "code",
   "execution_count": 7,
   "id": "c14445c2",
   "metadata": {},
   "outputs": [
    {
     "data": {
      "text/plain": [
       "world            1021\n",
       "entertainment     998\n",
       "sports            856\n",
       "technology        751\n",
       "politics          546\n",
       "science           389\n",
       "automobile        256\n",
       "Name: news_category, dtype: int64"
      ]
     },
     "execution_count": 7,
     "metadata": {},
     "output_type": "execute_result"
    }
   ],
   "source": [
    "dataset['news_category'].value_counts()"
   ]
  },
  {
   "cell_type": "markdown",
   "id": "a76f7e7d",
   "metadata": {},
   "source": [
    "##### check for the data types"
   ]
  },
  {
   "cell_type": "code",
   "execution_count": 8,
   "id": "109ba140",
   "metadata": {},
   "outputs": [
    {
     "data": {
      "text/plain": [
       "Unnamed: 0        int64\n",
       "news_headline    object\n",
       "news_article     object\n",
       "news_category    object\n",
       "dtype: object"
      ]
     },
     "execution_count": 8,
     "metadata": {},
     "output_type": "execute_result"
    }
   ],
   "source": [
    "dataset.dtypes"
   ]
  },
  {
   "cell_type": "markdown",
   "id": "a9dc89f2",
   "metadata": {},
   "source": [
    "##### drop the 1st column that is news_headline because it has no use"
   ]
  },
  {
   "cell_type": "code",
   "execution_count": 9,
   "id": "8b8d14b0",
   "metadata": {},
   "outputs": [],
   "source": [
    "dataset = dataset.drop('news_headline',axis=1)"
   ]
  },
  {
   "cell_type": "markdown",
   "id": "7c37575b",
   "metadata": {},
   "source": [
    "CountVectorizer we are converting raw text to a numerical vector representation of words and n-grams. This makes it easy to directly use this representation as features (signals) in Machine Learning tasks such as for text classification and clustering."
   ]
  },
  {
   "cell_type": "code",
   "execution_count": 12,
   "id": "6b7b2daf",
   "metadata": {},
   "outputs": [],
   "source": [
    "dataset = dataset[[\"news_article\",\"news_category\"]]\n",
    "\n",
    "x = np.array(dataset[\"news_article\"])\n",
    "Y = np.array(dataset[\"news_category\"])\n",
    "\n",
    "CountV = CountVectorizer()\n",
    "X = CountV.fit_transform(x)"
   ]
  },
  {
   "cell_type": "markdown",
   "id": "a9f1a8f9",
   "metadata": {},
   "source": [
    "##### Train & Test Dataset"
   ]
  },
  {
   "cell_type": "code",
   "execution_count": 13,
   "id": "3c87e920",
   "metadata": {},
   "outputs": [],
   "source": [
    "X_train, X_test, Y_train, Y_test = train_test_split(X, Y, test_size = 0.2, random_state=2)"
   ]
  },
  {
   "cell_type": "code",
   "execution_count": 14,
   "id": "32b4c29c",
   "metadata": {},
   "outputs": [
    {
     "name": "stdout",
     "output_type": "stream",
     "text": [
      "(4817, 13167)\n"
     ]
    }
   ],
   "source": [
    "print(X.shape)"
   ]
  },
  {
   "cell_type": "markdown",
   "id": "5eef0cf2",
   "metadata": {},
   "source": [
    "##### Create a Multinominal Naive Bayes Model"
   ]
  },
  {
   "cell_type": "code",
   "execution_count": 15,
   "id": "c05e01e7",
   "metadata": {},
   "outputs": [],
   "source": [
    "model = MultinomialNB()"
   ]
  },
  {
   "cell_type": "code",
   "execution_count": 16,
   "id": "68e1a5f3",
   "metadata": {},
   "outputs": [
    {
     "data": {
      "text/plain": [
       "MultinomialNB()"
      ]
     },
     "execution_count": 16,
     "metadata": {},
     "output_type": "execute_result"
    }
   ],
   "source": [
    "model.fit(X_train,Y_train)"
   ]
  },
  {
   "cell_type": "markdown",
   "id": "af8212bd",
   "metadata": {},
   "source": [
    "##### Check for Accuracy"
   ]
  },
  {
   "cell_type": "code",
   "execution_count": 17,
   "id": "64574d95",
   "metadata": {},
   "outputs": [
    {
     "data": {
      "text/plain": [
       "96.67791331430054"
      ]
     },
     "execution_count": 17,
     "metadata": {},
     "output_type": "execute_result"
    }
   ],
   "source": [
    "model.score(X_train,Y_train)*100"
   ]
  },
  {
   "cell_type": "code",
   "execution_count": null,
   "id": "4d110e54",
   "metadata": {},
   "outputs": [],
   "source": [
    "Let's test this Model"
   ]
  }
 ],
 "metadata": {
  "kernelspec": {
   "display_name": "Python 3 (ipykernel)",
   "language": "python",
   "name": "python3"
  },
  "language_info": {
   "codemirror_mode": {
    "name": "ipython",
    "version": 3
   },
   "file_extension": ".py",
   "mimetype": "text/x-python",
   "name": "python",
   "nbconvert_exporter": "python",
   "pygments_lexer": "ipython3",
   "version": "3.9.7"
  }
 },
 "nbformat": 4,
 "nbformat_minor": 5
}
